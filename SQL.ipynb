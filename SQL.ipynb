{
 "cells": [
  {
   "cell_type": "markdown",
   "metadata": {},
   "source": [
    "# Проект по SQL"
   ]
  },
  {
   "cell_type": "markdown",
   "metadata": {},
   "source": [
    "**Цель проекта:**    \n",
    "Компания решила быть на волне и купила крупный сервис для чтения книг по подписке, необходимо проанализировать базу данных книг для формирования ценностного предложение для нового продукта."
   ]
  },
  {
   "cell_type": "markdown",
   "metadata": {},
   "source": [
    "## Загрузка  и обзор данных"
   ]
  },
  {
   "cell_type": "code",
   "execution_count": 1,
   "metadata": {},
   "outputs": [],
   "source": [
    "# импортируем библиотеки\n",
    "import pandas as pd\n",
    "from sqlalchemy import text, create_engine"
   ]
  },
  {
   "cell_type": "code",
   "execution_count": 2,
   "metadata": {},
   "outputs": [],
   "source": [
    "# устанавливаем параметры\n",
    "db_config = {'user': 'praktikum_student', # имя пользователя\n",
    "'pwd': 'Sdf4$2;d-d30pp', # пароль\n",
    "'host': 'rc1b-wcoijxj3yxfsf3fs.mdb.yandexcloud.net',\n",
    "'port': 6432, # порт подключения\n",
    "'db': 'data-analyst-final-project-db'} # название базы данных\n",
    "connection_string = 'postgresql://{user}:{pwd}@{host}:{port}/{db}'.format(**db_config)"
   ]
  },
  {
   "cell_type": "code",
   "execution_count": 3,
   "metadata": {},
   "outputs": [],
   "source": [
    "# сохраняем коннектор\n",
    "engine = create_engine(connection_string, connect_args={'sslmode':'require'})"
   ]
  },
  {
   "cell_type": "code",
   "execution_count": 4,
   "metadata": {},
   "outputs": [
    {
     "data": {
      "text/html": [
       "<div>\n",
       "<style scoped>\n",
       "    .dataframe tbody tr th:only-of-type {\n",
       "        vertical-align: middle;\n",
       "    }\n",
       "\n",
       "    .dataframe tbody tr th {\n",
       "        vertical-align: top;\n",
       "    }\n",
       "\n",
       "    .dataframe thead th {\n",
       "        text-align: right;\n",
       "    }\n",
       "</style>\n",
       "<table border=\"1\" class=\"dataframe\">\n",
       "  <thead>\n",
       "    <tr style=\"text-align: right;\">\n",
       "      <th></th>\n",
       "      <th>book_id</th>\n",
       "      <th>author_id</th>\n",
       "      <th>title</th>\n",
       "      <th>num_pages</th>\n",
       "      <th>publication_date</th>\n",
       "      <th>publisher_id</th>\n",
       "    </tr>\n",
       "  </thead>\n",
       "  <tbody>\n",
       "    <tr>\n",
       "      <th>0</th>\n",
       "      <td>1</td>\n",
       "      <td>546</td>\n",
       "      <td>'Salem's Lot</td>\n",
       "      <td>594</td>\n",
       "      <td>2005-11-01</td>\n",
       "      <td>93</td>\n",
       "    </tr>\n",
       "    <tr>\n",
       "      <th>1</th>\n",
       "      <td>2</td>\n",
       "      <td>465</td>\n",
       "      <td>1 000 Places to See Before You Die</td>\n",
       "      <td>992</td>\n",
       "      <td>2003-05-22</td>\n",
       "      <td>336</td>\n",
       "    </tr>\n",
       "    <tr>\n",
       "      <th>2</th>\n",
       "      <td>3</td>\n",
       "      <td>407</td>\n",
       "      <td>13 Little Blue Envelopes (Little Blue Envelope...</td>\n",
       "      <td>322</td>\n",
       "      <td>2010-12-21</td>\n",
       "      <td>135</td>\n",
       "    </tr>\n",
       "    <tr>\n",
       "      <th>3</th>\n",
       "      <td>4</td>\n",
       "      <td>82</td>\n",
       "      <td>1491: New Revelations of the Americas Before C...</td>\n",
       "      <td>541</td>\n",
       "      <td>2006-10-10</td>\n",
       "      <td>309</td>\n",
       "    </tr>\n",
       "    <tr>\n",
       "      <th>4</th>\n",
       "      <td>5</td>\n",
       "      <td>125</td>\n",
       "      <td>1776</td>\n",
       "      <td>386</td>\n",
       "      <td>2006-07-04</td>\n",
       "      <td>268</td>\n",
       "    </tr>\n",
       "  </tbody>\n",
       "</table>\n",
       "</div>"
      ],
      "text/plain": [
       "   book_id  author_id                                              title  \\\n",
       "0        1        546                                       'Salem's Lot   \n",
       "1        2        465                 1 000 Places to See Before You Die   \n",
       "2        3        407  13 Little Blue Envelopes (Little Blue Envelope...   \n",
       "3        4         82  1491: New Revelations of the Americas Before C...   \n",
       "4        5        125                                               1776   \n",
       "\n",
       "   num_pages publication_date  publisher_id  \n",
       "0        594       2005-11-01            93  \n",
       "1        992       2003-05-22           336  \n",
       "2        322       2010-12-21           135  \n",
       "3        541       2006-10-10           309  \n",
       "4        386       2006-07-04           268  "
      ]
     },
     "execution_count": 4,
     "metadata": {},
     "output_type": "execute_result"
    }
   ],
   "source": [
    "query = '''\n",
    "SELECT * \n",
    "FROM books\n",
    "LIMIT 5'''\n",
    "con=engine.connect()\n",
    "pd.io.sql.read_sql(sql=text(query), con = con)"
   ]
  },
  {
   "cell_type": "code",
   "execution_count": 5,
   "metadata": {},
   "outputs": [
    {
     "data": {
      "text/html": [
       "<div>\n",
       "<style scoped>\n",
       "    .dataframe tbody tr th:only-of-type {\n",
       "        vertical-align: middle;\n",
       "    }\n",
       "\n",
       "    .dataframe tbody tr th {\n",
       "        vertical-align: top;\n",
       "    }\n",
       "\n",
       "    .dataframe thead th {\n",
       "        text-align: right;\n",
       "    }\n",
       "</style>\n",
       "<table border=\"1\" class=\"dataframe\">\n",
       "  <thead>\n",
       "    <tr style=\"text-align: right;\">\n",
       "      <th></th>\n",
       "      <th>publisher_id</th>\n",
       "      <th>publisher</th>\n",
       "    </tr>\n",
       "  </thead>\n",
       "  <tbody>\n",
       "    <tr>\n",
       "      <th>0</th>\n",
       "      <td>1</td>\n",
       "      <td>Ace</td>\n",
       "    </tr>\n",
       "    <tr>\n",
       "      <th>1</th>\n",
       "      <td>2</td>\n",
       "      <td>Ace Book</td>\n",
       "    </tr>\n",
       "    <tr>\n",
       "      <th>2</th>\n",
       "      <td>3</td>\n",
       "      <td>Ace Books</td>\n",
       "    </tr>\n",
       "    <tr>\n",
       "      <th>3</th>\n",
       "      <td>4</td>\n",
       "      <td>Ace Hardcover</td>\n",
       "    </tr>\n",
       "    <tr>\n",
       "      <th>4</th>\n",
       "      <td>5</td>\n",
       "      <td>Addison Wesley Publishing Company</td>\n",
       "    </tr>\n",
       "  </tbody>\n",
       "</table>\n",
       "</div>"
      ],
      "text/plain": [
       "   publisher_id                          publisher\n",
       "0             1                                Ace\n",
       "1             2                           Ace Book\n",
       "2             3                          Ace Books\n",
       "3             4                      Ace Hardcover\n",
       "4             5  Addison Wesley Publishing Company"
      ]
     },
     "execution_count": 5,
     "metadata": {},
     "output_type": "execute_result"
    }
   ],
   "source": [
    "query = '''\n",
    "SELECT * \n",
    "FROM publishers\n",
    "LIMIT 5'''\n",
    "con=engine.connect()\n",
    "pd.io.sql.read_sql(sql=text(query), con = con)"
   ]
  },
  {
   "cell_type": "code",
   "execution_count": 6,
   "metadata": {},
   "outputs": [
    {
     "data": {
      "text/html": [
       "<div>\n",
       "<style scoped>\n",
       "    .dataframe tbody tr th:only-of-type {\n",
       "        vertical-align: middle;\n",
       "    }\n",
       "\n",
       "    .dataframe tbody tr th {\n",
       "        vertical-align: top;\n",
       "    }\n",
       "\n",
       "    .dataframe thead th {\n",
       "        text-align: right;\n",
       "    }\n",
       "</style>\n",
       "<table border=\"1\" class=\"dataframe\">\n",
       "  <thead>\n",
       "    <tr style=\"text-align: right;\">\n",
       "      <th></th>\n",
       "      <th>review_id</th>\n",
       "      <th>book_id</th>\n",
       "      <th>username</th>\n",
       "      <th>text</th>\n",
       "    </tr>\n",
       "  </thead>\n",
       "  <tbody>\n",
       "    <tr>\n",
       "      <th>0</th>\n",
       "      <td>1</td>\n",
       "      <td>1</td>\n",
       "      <td>brandtandrea</td>\n",
       "      <td>Mention society tell send professor analysis. ...</td>\n",
       "    </tr>\n",
       "    <tr>\n",
       "      <th>1</th>\n",
       "      <td>2</td>\n",
       "      <td>1</td>\n",
       "      <td>ryanfranco</td>\n",
       "      <td>Foot glass pretty audience hit themselves. Amo...</td>\n",
       "    </tr>\n",
       "    <tr>\n",
       "      <th>2</th>\n",
       "      <td>3</td>\n",
       "      <td>2</td>\n",
       "      <td>lorichen</td>\n",
       "      <td>Listen treat keep worry. Miss husband tax but ...</td>\n",
       "    </tr>\n",
       "    <tr>\n",
       "      <th>3</th>\n",
       "      <td>4</td>\n",
       "      <td>3</td>\n",
       "      <td>johnsonamanda</td>\n",
       "      <td>Finally month interesting blue could nature cu...</td>\n",
       "    </tr>\n",
       "    <tr>\n",
       "      <th>4</th>\n",
       "      <td>5</td>\n",
       "      <td>3</td>\n",
       "      <td>scotttamara</td>\n",
       "      <td>Nation purpose heavy give wait song will. List...</td>\n",
       "    </tr>\n",
       "  </tbody>\n",
       "</table>\n",
       "</div>"
      ],
      "text/plain": [
       "   review_id  book_id       username  \\\n",
       "0          1        1   brandtandrea   \n",
       "1          2        1     ryanfranco   \n",
       "2          3        2       lorichen   \n",
       "3          4        3  johnsonamanda   \n",
       "4          5        3    scotttamara   \n",
       "\n",
       "                                                text  \n",
       "0  Mention society tell send professor analysis. ...  \n",
       "1  Foot glass pretty audience hit themselves. Amo...  \n",
       "2  Listen treat keep worry. Miss husband tax but ...  \n",
       "3  Finally month interesting blue could nature cu...  \n",
       "4  Nation purpose heavy give wait song will. List...  "
      ]
     },
     "execution_count": 6,
     "metadata": {},
     "output_type": "execute_result"
    }
   ],
   "source": [
    "query = '''\n",
    "SELECT * \n",
    "FROM reviews\n",
    "LIMIT 5'''\n",
    "con=engine.connect()\n",
    "pd.io.sql.read_sql(sql=text(query), con = con)"
   ]
  },
  {
   "cell_type": "code",
   "execution_count": 7,
   "metadata": {},
   "outputs": [
    {
     "data": {
      "text/html": [
       "<div>\n",
       "<style scoped>\n",
       "    .dataframe tbody tr th:only-of-type {\n",
       "        vertical-align: middle;\n",
       "    }\n",
       "\n",
       "    .dataframe tbody tr th {\n",
       "        vertical-align: top;\n",
       "    }\n",
       "\n",
       "    .dataframe thead th {\n",
       "        text-align: right;\n",
       "    }\n",
       "</style>\n",
       "<table border=\"1\" class=\"dataframe\">\n",
       "  <thead>\n",
       "    <tr style=\"text-align: right;\">\n",
       "      <th></th>\n",
       "      <th>rating_id</th>\n",
       "      <th>book_id</th>\n",
       "      <th>username</th>\n",
       "      <th>rating</th>\n",
       "    </tr>\n",
       "  </thead>\n",
       "  <tbody>\n",
       "    <tr>\n",
       "      <th>0</th>\n",
       "      <td>1</td>\n",
       "      <td>1</td>\n",
       "      <td>ryanfranco</td>\n",
       "      <td>4</td>\n",
       "    </tr>\n",
       "    <tr>\n",
       "      <th>1</th>\n",
       "      <td>2</td>\n",
       "      <td>1</td>\n",
       "      <td>grantpatricia</td>\n",
       "      <td>2</td>\n",
       "    </tr>\n",
       "    <tr>\n",
       "      <th>2</th>\n",
       "      <td>3</td>\n",
       "      <td>1</td>\n",
       "      <td>brandtandrea</td>\n",
       "      <td>5</td>\n",
       "    </tr>\n",
       "    <tr>\n",
       "      <th>3</th>\n",
       "      <td>4</td>\n",
       "      <td>2</td>\n",
       "      <td>lorichen</td>\n",
       "      <td>3</td>\n",
       "    </tr>\n",
       "    <tr>\n",
       "      <th>4</th>\n",
       "      <td>5</td>\n",
       "      <td>2</td>\n",
       "      <td>mariokeller</td>\n",
       "      <td>2</td>\n",
       "    </tr>\n",
       "  </tbody>\n",
       "</table>\n",
       "</div>"
      ],
      "text/plain": [
       "   rating_id  book_id       username  rating\n",
       "0          1        1     ryanfranco       4\n",
       "1          2        1  grantpatricia       2\n",
       "2          3        1   brandtandrea       5\n",
       "3          4        2       lorichen       3\n",
       "4          5        2    mariokeller       2"
      ]
     },
     "execution_count": 7,
     "metadata": {},
     "output_type": "execute_result"
    }
   ],
   "source": [
    "query = '''\n",
    "SELECT * \n",
    "FROM ratings \n",
    "LIMIT 5\n",
    "'''\n",
    "con=engine.connect()\n",
    "pd.io.sql.read_sql(sql=text(query), con = con)"
   ]
  },
  {
   "cell_type": "code",
   "execution_count": 8,
   "metadata": {},
   "outputs": [
    {
     "data": {
      "text/html": [
       "<div>\n",
       "<style scoped>\n",
       "    .dataframe tbody tr th:only-of-type {\n",
       "        vertical-align: middle;\n",
       "    }\n",
       "\n",
       "    .dataframe tbody tr th {\n",
       "        vertical-align: top;\n",
       "    }\n",
       "\n",
       "    .dataframe thead th {\n",
       "        text-align: right;\n",
       "    }\n",
       "</style>\n",
       "<table border=\"1\" class=\"dataframe\">\n",
       "  <thead>\n",
       "    <tr style=\"text-align: right;\">\n",
       "      <th></th>\n",
       "      <th>author_id</th>\n",
       "      <th>author</th>\n",
       "    </tr>\n",
       "  </thead>\n",
       "  <tbody>\n",
       "    <tr>\n",
       "      <th>0</th>\n",
       "      <td>1</td>\n",
       "      <td>A.S. Byatt</td>\n",
       "    </tr>\n",
       "    <tr>\n",
       "      <th>1</th>\n",
       "      <td>2</td>\n",
       "      <td>Aesop/Laura Harris/Laura Gibbs</td>\n",
       "    </tr>\n",
       "    <tr>\n",
       "      <th>2</th>\n",
       "      <td>3</td>\n",
       "      <td>Agatha Christie</td>\n",
       "    </tr>\n",
       "    <tr>\n",
       "      <th>3</th>\n",
       "      <td>4</td>\n",
       "      <td>Alan Brennert</td>\n",
       "    </tr>\n",
       "    <tr>\n",
       "      <th>4</th>\n",
       "      <td>5</td>\n",
       "      <td>Alan Moore/David   Lloyd</td>\n",
       "    </tr>\n",
       "  </tbody>\n",
       "</table>\n",
       "</div>"
      ],
      "text/plain": [
       "   author_id                          author\n",
       "0          1                      A.S. Byatt\n",
       "1          2  Aesop/Laura Harris/Laura Gibbs\n",
       "2          3                 Agatha Christie\n",
       "3          4                   Alan Brennert\n",
       "4          5        Alan Moore/David   Lloyd"
      ]
     },
     "execution_count": 8,
     "metadata": {},
     "output_type": "execute_result"
    }
   ],
   "source": [
    "query = '''\n",
    "SELECT * \n",
    "FROM authors\n",
    "LIMIT 5'''\n",
    "con=engine.connect()\n",
    "pd.io.sql.read_sql(sql=text(query), con = con)"
   ]
  },
  {
   "cell_type": "markdown",
   "metadata": {},
   "source": [
    "**Таблица books**         \n",
    "Содержит данные о книгах:\n",
    "\n",
    "- book_id — идентификатор книги;\n",
    "- author_id — идентификатор автора;\n",
    "- title — название книги;\n",
    "- num_pages — количество страниц;\n",
    "- publication_date — дата публикации книги;\n",
    "- publisher_id — идентификатор издателя.    \n",
    "\n",
    "**Таблица authors**          \n",
    "Содержит данные об авторах:\n",
    "\n",
    "- author_id — идентификатор автора;\n",
    "- author — имя автора.  \n",
    "\n",
    "**Таблица publishers**                  \n",
    "Содержит данные об издательствах:\n",
    "\n",
    "- publisher_id — идентификатор издательства;\n",
    "- publisher — название издательства;    \n",
    "\n",
    "**Таблица ratings**         \n",
    "Содержит данные о пользовательских оценках книг:     \n",
    "\n",
    "- rating_id — идентификатор оценки;\n",
    "- book_id — идентификатор книги;\n",
    "- username — имя пользователя, оставившего оценку;\n",
    "- rating — оценка книги.   \n",
    "\n",
    "**Таблица reviews**           \n",
    "Содержит данные о пользовательских обзорах на книги:    \n",
    "\n",
    "- review_id — идентификатор обзора;\n",
    "- book_id — идентификатор книги;\n",
    "- username — имя пользователя, написавшего обзор;\n",
    "- text — текст обзора."
   ]
  },
  {
   "cell_type": "markdown",
   "metadata": {},
   "source": [
    "## Посчитайте, сколько книг вышло после 1 января 2000 года"
   ]
  },
  {
   "cell_type": "code",
   "execution_count": 9,
   "metadata": {},
   "outputs": [
    {
     "data": {
      "text/html": [
       "<div>\n",
       "<style scoped>\n",
       "    .dataframe tbody tr th:only-of-type {\n",
       "        vertical-align: middle;\n",
       "    }\n",
       "\n",
       "    .dataframe tbody tr th {\n",
       "        vertical-align: top;\n",
       "    }\n",
       "\n",
       "    .dataframe thead th {\n",
       "        text-align: right;\n",
       "    }\n",
       "</style>\n",
       "<table border=\"1\" class=\"dataframe\">\n",
       "  <thead>\n",
       "    <tr style=\"text-align: right;\">\n",
       "      <th></th>\n",
       "      <th>count</th>\n",
       "    </tr>\n",
       "  </thead>\n",
       "  <tbody>\n",
       "    <tr>\n",
       "      <th>0</th>\n",
       "      <td>819</td>\n",
       "    </tr>\n",
       "  </tbody>\n",
       "</table>\n",
       "</div>"
      ],
      "text/plain": [
       "   count\n",
       "0    819"
      ]
     },
     "execution_count": 9,
     "metadata": {},
     "output_type": "execute_result"
    }
   ],
   "source": [
    "query = '''\n",
    "SELECT count(*)\n",
    "FROM books \n",
    "where publication_date>'2000-01-01'\n",
    "'''\n",
    "con=engine.connect()\n",
    "pd.io.sql.read_sql(sql=text(query), con = con)"
   ]
  },
  {
   "cell_type": "markdown",
   "metadata": {},
   "source": [
    "- С 01.01.2020 вышло 819 книг"
   ]
  },
  {
   "cell_type": "markdown",
   "metadata": {},
   "source": [
    "## Для каждой книги посчитайте количество обзоров и среднюю оценку"
   ]
  },
  {
   "cell_type": "code",
   "execution_count": 10,
   "metadata": {},
   "outputs": [
    {
     "data": {
      "text/html": [
       "<div>\n",
       "<style scoped>\n",
       "    .dataframe tbody tr th:only-of-type {\n",
       "        vertical-align: middle;\n",
       "    }\n",
       "\n",
       "    .dataframe tbody tr th {\n",
       "        vertical-align: top;\n",
       "    }\n",
       "\n",
       "    .dataframe thead th {\n",
       "        text-align: right;\n",
       "    }\n",
       "</style>\n",
       "<table border=\"1\" class=\"dataframe\">\n",
       "  <thead>\n",
       "    <tr style=\"text-align: right;\">\n",
       "      <th></th>\n",
       "      <th>title</th>\n",
       "      <th>count</th>\n",
       "      <th>avg_r</th>\n",
       "    </tr>\n",
       "  </thead>\n",
       "  <tbody>\n",
       "    <tr>\n",
       "      <th>0</th>\n",
       "      <td>A Dirty Job (Grim Reaper  #1)</td>\n",
       "      <td>4</td>\n",
       "      <td>5.00</td>\n",
       "    </tr>\n",
       "    <tr>\n",
       "      <th>1</th>\n",
       "      <td>School's Out—Forever (Maximum Ride  #2)</td>\n",
       "      <td>3</td>\n",
       "      <td>5.00</td>\n",
       "    </tr>\n",
       "    <tr>\n",
       "      <th>2</th>\n",
       "      <td>Moneyball: The Art of Winning an Unfair Game</td>\n",
       "      <td>3</td>\n",
       "      <td>5.00</td>\n",
       "    </tr>\n",
       "    <tr>\n",
       "      <th>3</th>\n",
       "      <td>The Big Bad Wolf  (Alex Cross  #9)</td>\n",
       "      <td>2</td>\n",
       "      <td>5.00</td>\n",
       "    </tr>\n",
       "    <tr>\n",
       "      <th>4</th>\n",
       "      <td>Welcome to Temptation (Dempseys  #1)</td>\n",
       "      <td>2</td>\n",
       "      <td>5.00</td>\n",
       "    </tr>\n",
       "    <tr>\n",
       "      <th>...</th>\n",
       "      <td>...</td>\n",
       "      <td>...</td>\n",
       "      <td>...</td>\n",
       "    </tr>\n",
       "    <tr>\n",
       "      <th>995</th>\n",
       "      <td>The World Is Flat: A Brief History of the Twen...</td>\n",
       "      <td>3</td>\n",
       "      <td>2.25</td>\n",
       "    </tr>\n",
       "    <tr>\n",
       "      <th>996</th>\n",
       "      <td>Drowning Ruth</td>\n",
       "      <td>3</td>\n",
       "      <td>2.00</td>\n",
       "    </tr>\n",
       "    <tr>\n",
       "      <th>997</th>\n",
       "      <td>His Excellency: George Washington</td>\n",
       "      <td>2</td>\n",
       "      <td>2.00</td>\n",
       "    </tr>\n",
       "    <tr>\n",
       "      <th>998</th>\n",
       "      <td>Junky</td>\n",
       "      <td>2</td>\n",
       "      <td>2.00</td>\n",
       "    </tr>\n",
       "    <tr>\n",
       "      <th>999</th>\n",
       "      <td>Harvesting the Heart</td>\n",
       "      <td>2</td>\n",
       "      <td>1.50</td>\n",
       "    </tr>\n",
       "  </tbody>\n",
       "</table>\n",
       "<p>1000 rows × 3 columns</p>\n",
       "</div>"
      ],
      "text/plain": [
       "                                                 title  count  avg_r\n",
       "0                        A Dirty Job (Grim Reaper  #1)      4   5.00\n",
       "1              School's Out—Forever (Maximum Ride  #2)      3   5.00\n",
       "2         Moneyball: The Art of Winning an Unfair Game      3   5.00\n",
       "3                   The Big Bad Wolf  (Alex Cross  #9)      2   5.00\n",
       "4                 Welcome to Temptation (Dempseys  #1)      2   5.00\n",
       "..                                                 ...    ...    ...\n",
       "995  The World Is Flat: A Brief History of the Twen...      3   2.25\n",
       "996                                      Drowning Ruth      3   2.00\n",
       "997                  His Excellency: George Washington      2   2.00\n",
       "998                                              Junky      2   2.00\n",
       "999                               Harvesting the Heart      2   1.50\n",
       "\n",
       "[1000 rows x 3 columns]"
      ]
     },
     "execution_count": 10,
     "metadata": {},
     "output_type": "execute_result"
    }
   ],
   "source": [
    "query = '''\n",
    "SELECT title, count(distinct rw.review_id), round(avg(rt.rating),2) as avg_r\n",
    "FROM books as b\n",
    "full join ratings as rt on b.book_id=rt.book_id\n",
    "full join reviews as rw on b.book_id= rw.book_id\n",
    "group by b.book_id\n",
    "order by avg_r desc, count desc\n",
    "'''\n",
    "con=engine.connect()\n",
    "pd.io.sql.read_sql(sql=text(query), con = con)"
   ]
  },
  {
   "cell_type": "markdown",
   "metadata": {},
   "source": [
    "- Всего у нас 1000 книг. Самый высокий средний рейтинг и количество обзоров A Dirty Job (Grim Reaper #1)(рейтинг-5, 4 обзора)"
   ]
  },
  {
   "cell_type": "markdown",
   "metadata": {},
   "source": [
    "## Определите издательство, которое выпустило наибольшее число книг толще 50 страниц — так вы исключите из анализа брошюры;"
   ]
  },
  {
   "cell_type": "code",
   "execution_count": 11,
   "metadata": {},
   "outputs": [
    {
     "data": {
      "text/html": [
       "<div>\n",
       "<style scoped>\n",
       "    .dataframe tbody tr th:only-of-type {\n",
       "        vertical-align: middle;\n",
       "    }\n",
       "\n",
       "    .dataframe tbody tr th {\n",
       "        vertical-align: top;\n",
       "    }\n",
       "\n",
       "    .dataframe thead th {\n",
       "        text-align: right;\n",
       "    }\n",
       "</style>\n",
       "<table border=\"1\" class=\"dataframe\">\n",
       "  <thead>\n",
       "    <tr style=\"text-align: right;\">\n",
       "      <th></th>\n",
       "      <th>publisher</th>\n",
       "      <th>cb</th>\n",
       "    </tr>\n",
       "  </thead>\n",
       "  <tbody>\n",
       "    <tr>\n",
       "      <th>0</th>\n",
       "      <td>Penguin Books</td>\n",
       "      <td>42</td>\n",
       "    </tr>\n",
       "  </tbody>\n",
       "</table>\n",
       "</div>"
      ],
      "text/plain": [
       "       publisher  cb\n",
       "0  Penguin Books  42"
      ]
     },
     "execution_count": 11,
     "metadata": {},
     "output_type": "execute_result"
    }
   ],
   "source": [
    "query = '''\n",
    "SELECT p.publisher, count(b.book_id) as cb\n",
    "FROM books as b \n",
    "join publishers as p on p.publisher_id=b.publisher_id\n",
    "where b.num_pages>50\n",
    "group by p.publisher\n",
    "order by cb desc\n",
    "limit 1\n",
    "\n",
    "'''\n",
    "con=engine.connect()\n",
    "pd.io.sql.read_sql(sql=text(query), con = con)"
   ]
  },
  {
   "cell_type": "markdown",
   "metadata": {},
   "source": [
    "- Больше всего книг выпустило издательство Penguin Books-42шт."
   ]
  },
  {
   "cell_type": "markdown",
   "metadata": {},
   "source": [
    "## Определите автора с самой высокой средней оценкой книг — учитывайте только книги с 50 и более оценками"
   ]
  },
  {
   "cell_type": "code",
   "execution_count": 12,
   "metadata": {},
   "outputs": [
    {
     "data": {
      "text/html": [
       "<div>\n",
       "<style scoped>\n",
       "    .dataframe tbody tr th:only-of-type {\n",
       "        vertical-align: middle;\n",
       "    }\n",
       "\n",
       "    .dataframe tbody tr th {\n",
       "        vertical-align: top;\n",
       "    }\n",
       "\n",
       "    .dataframe thead th {\n",
       "        text-align: right;\n",
       "    }\n",
       "</style>\n",
       "<table border=\"1\" class=\"dataframe\">\n",
       "  <thead>\n",
       "    <tr style=\"text-align: right;\">\n",
       "      <th></th>\n",
       "      <th>author</th>\n",
       "      <th>rating</th>\n",
       "    </tr>\n",
       "  </thead>\n",
       "  <tbody>\n",
       "    <tr>\n",
       "      <th>0</th>\n",
       "      <td>J.K. Rowling/Mary GrandPré</td>\n",
       "      <td>4.287</td>\n",
       "    </tr>\n",
       "  </tbody>\n",
       "</table>\n",
       "</div>"
      ],
      "text/plain": [
       "                       author  rating\n",
       "0  J.K. Rowling/Mary GrandPré   4.287"
      ]
     },
     "execution_count": 12,
     "metadata": {},
     "output_type": "execute_result"
    }
   ],
   "source": [
    "query = '''\n",
    "SELECT a.author, round(avg(rating),3) as rating\n",
    "from author as a\n",
    "join books as b on b.author_id=a.author_id\n",
    "join ratings as rt on rt.book_id=b.book_id\n",
    "where b.book_id in (\n",
    "select book_id\n",
    "from ratings \n",
    "group by book_id\n",
    "having count(rating_id) >50\n",
    "order by count(rating_id) desc)\n",
    "group by a.author\n",
    "order by rating desc\n",
    "limit 1\n",
    "\n",
    "'''\n",
    "con=engine.connect()\n",
    "pd.io.sql.read_sql(sql=text(query), con = con)"
   ]
  },
  {
   "cell_type": "markdown",
   "metadata": {},
   "source": [
    "- Автор с самой выской средней оценкой книги - J.K. Rowling/Mary GrandPré(4.287)"
   ]
  },
  {
   "cell_type": "markdown",
   "metadata": {},
   "source": [
    "## Посчитайте среднее количество обзоров от пользователей, которые поставили больше 48 оценок."
   ]
  },
  {
   "cell_type": "code",
   "execution_count": 13,
   "metadata": {},
   "outputs": [
    {
     "data": {
      "text/html": [
       "<div>\n",
       "<style scoped>\n",
       "    .dataframe tbody tr th:only-of-type {\n",
       "        vertical-align: middle;\n",
       "    }\n",
       "\n",
       "    .dataframe tbody tr th {\n",
       "        vertical-align: top;\n",
       "    }\n",
       "\n",
       "    .dataframe thead th {\n",
       "        text-align: right;\n",
       "    }\n",
       "</style>\n",
       "<table border=\"1\" class=\"dataframe\">\n",
       "  <thead>\n",
       "    <tr style=\"text-align: right;\">\n",
       "      <th></th>\n",
       "      <th>avg</th>\n",
       "    </tr>\n",
       "  </thead>\n",
       "  <tbody>\n",
       "    <tr>\n",
       "      <th>0</th>\n",
       "      <td>24.0</td>\n",
       "    </tr>\n",
       "  </tbody>\n",
       "</table>\n",
       "</div>"
      ],
      "text/plain": [
       "    avg\n",
       "0  24.0"
      ]
     },
     "execution_count": 13,
     "metadata": {},
     "output_type": "execute_result"
    }
   ],
   "source": [
    "query = '''\n",
    "with rating as(\n",
    "SELECT username, count(rating) as crt\n",
    "from ratings\n",
    "group by username\n",
    "having count(rating)>48\n",
    "order by crt desc),\n",
    "obzors as (SELECT username, count(review_id) as crwi\n",
    "from reviews\n",
    "group by username\n",
    "order by crwi desc)\n",
    "select avg(o.crwi)\n",
    "from rating\n",
    "left join obzors as o on o.username=rating.username\n",
    "\n",
    "'''\n",
    "con=engine.connect()\n",
    "pd.io.sql.read_sql(sql=text(query), con = con)"
   ]
  },
  {
   "cell_type": "markdown",
   "metadata": {},
   "source": [
    "- Среднее количество обзоров от пользователей, которые поставили больше 48 оценок - 24"
   ]
  },
  {
   "cell_type": "markdown",
   "metadata": {},
   "source": [
    "## Общий вывод"
   ]
  },
  {
   "cell_type": "markdown",
   "metadata": {},
   "source": [
    "- С 01.01.2020 вышло 819 книг\n",
    "- Всего у нас 1000 книг. Самый высокий средний рейтинг и количество обзоров A Dirty Job (Grim Reaper #1)(рейтинг-5, 4 обзора)\n",
    "- Больше всего книг выпустило издательство Penguin Books-42шт.\n",
    "- Автор с самой выской средней оценкой книги - J.K. Rowling/Mary GrandPré(4.287))\n",
    "- Среднее количество обзоров от пользователей, которые поставили больше 48 оценок - 24     \n",
    "\n",
    "Рекомендации бизнесу:    \n",
    "- повысить цену на книги с хорошим рейтингом\n",
    "- запустить скидки на эти же книги(на первые месяцы работы)\n",
    "- так же можно повысить цены на авторов с хорошим рейтингом\n",
    "- возможно запросить скидку у издательств с которыми больше всего работаем\n",
    "- так же возможно наладть связь с обзорщиками, чтобы они больше писали отзывов о книгах"
   ]
  },
  {
   "cell_type": "code",
   "execution_count": 14,
   "metadata": {},
   "outputs": [
    {
     "data": {
      "text/html": [
       "<div>\n",
       "<style scoped>\n",
       "    .dataframe tbody tr th:only-of-type {\n",
       "        vertical-align: middle;\n",
       "    }\n",
       "\n",
       "    .dataframe tbody tr th {\n",
       "        vertical-align: top;\n",
       "    }\n",
       "\n",
       "    .dataframe thead th {\n",
       "        text-align: right;\n",
       "    }\n",
       "</style>\n",
       "<table border=\"1\" class=\"dataframe\">\n",
       "  <thead>\n",
       "    <tr style=\"text-align: right;\">\n",
       "      <th></th>\n",
       "      <th>author</th>\n",
       "      <th>rating</th>\n",
       "    </tr>\n",
       "  </thead>\n",
       "  <tbody>\n",
       "    <tr>\n",
       "      <th>0</th>\n",
       "      <td>J.K. Rowling/Mary GrandPré</td>\n",
       "      <td>4.41</td>\n",
       "    </tr>\n",
       "  </tbody>\n",
       "</table>\n",
       "</div>"
      ],
      "text/plain": [
       "                       author  rating\n",
       "0  J.K. Rowling/Mary GrandPré    4.41"
      ]
     },
     "execution_count": 14,
     "metadata": {},
     "output_type": "execute_result"
    }
   ],
   "source": [
    "query = '''\n",
    "with aa as\n",
    "(SELECT a.author, b.title,round(avg(rt.rating),2) as rating\n",
    "FROM author as a\n",
    "join books as b on b.author_id=a.author_id\n",
    "join ratings as rt on rt.book_id=b.book_id\n",
    "group by a.author, b.title),\n",
    "bb as\n",
    "(select b.title,b.book_id, count(rt.rating)\n",
    "from books as b\n",
    "join ratings as rt on rt.book_id=b.book_id\n",
    "group by b.book_id,b.title\n",
    "having count(rt.rating)>50)\n",
    "select aa.author, aa.rating\n",
    "from  bb\n",
    "left join aa on aa.title=bb.title\n",
    "order by aa.rating desc\n",
    "limit 1\n",
    "\n",
    "'''\n",
    "con=engine.connect()\n",
    "pd.io.sql.read_sql(sql=text(query), con = con)"
   ]
  }
 ],
 "metadata": {
  "ExecuteTimeLog": [
   {
    "duration": 7230,
    "start_time": "2024-06-10T11:29:43.207Z"
   },
   {
    "duration": 68,
    "start_time": "2024-06-10T11:29:58.633Z"
   },
   {
    "duration": 68,
    "start_time": "2024-06-10T11:48:28.855Z"
   },
   {
    "duration": 61,
    "start_time": "2024-06-10T11:49:57.290Z"
   },
   {
    "duration": 130,
    "start_time": "2024-06-10T11:57:09.181Z"
   },
   {
    "duration": 54,
    "start_time": "2024-06-10T11:57:19.176Z"
   },
   {
    "duration": 3,
    "start_time": "2024-06-10T11:57:22.858Z"
   },
   {
    "duration": 61,
    "start_time": "2024-06-10T11:57:27.546Z"
   },
   {
    "duration": 60,
    "start_time": "2024-06-10T11:57:47.945Z"
   },
   {
    "duration": 60,
    "start_time": "2024-06-10T11:58:01.475Z"
   },
   {
    "duration": 53,
    "start_time": "2024-06-10T12:00:13.021Z"
   },
   {
    "duration": 52,
    "start_time": "2024-06-10T12:00:47.842Z"
   },
   {
    "duration": 53,
    "start_time": "2024-06-10T12:00:51.733Z"
   },
   {
    "duration": 53,
    "start_time": "2024-06-10T12:01:25.783Z"
   },
   {
    "duration": 52,
    "start_time": "2024-06-10T12:01:29.709Z"
   },
   {
    "duration": 53,
    "start_time": "2024-06-10T12:04:46.426Z"
   },
   {
    "duration": 53,
    "start_time": "2024-06-10T12:05:01.544Z"
   },
   {
    "duration": 139,
    "start_time": "2024-06-10T12:11:25.458Z"
   },
   {
    "duration": 64,
    "start_time": "2024-06-10T12:11:52.501Z"
   },
   {
    "duration": 146,
    "start_time": "2024-06-10T12:13:24.781Z"
   },
   {
    "duration": 143,
    "start_time": "2024-06-10T12:13:52.364Z"
   },
   {
    "duration": 9108,
    "start_time": "2024-06-10T12:14:49.764Z"
   },
   {
    "duration": 235,
    "start_time": "2024-06-10T12:14:58.874Z"
   },
   {
    "duration": 132,
    "start_time": "2024-06-10T12:14:59.112Z"
   },
   {
    "duration": 55,
    "start_time": "2024-06-10T12:14:59.246Z"
   },
   {
    "duration": 140,
    "start_time": "2024-06-10T12:14:59.303Z"
   },
   {
    "duration": 63,
    "start_time": "2024-06-10T12:15:19.043Z"
   },
   {
    "duration": 163,
    "start_time": "2024-06-10T12:15:50.219Z"
   },
   {
    "duration": 92,
    "start_time": "2024-06-10T12:17:26.983Z"
   },
   {
    "duration": 57,
    "start_time": "2024-06-10T12:19:16.310Z"
   },
   {
    "duration": 53,
    "start_time": "2024-06-10T12:19:26.435Z"
   },
   {
    "duration": 76,
    "start_time": "2024-06-10T12:24:35.416Z"
   },
   {
    "duration": 47,
    "start_time": "2024-06-10T12:24:47.755Z"
   },
   {
    "duration": 73,
    "start_time": "2024-06-10T12:24:59.709Z"
   },
   {
    "duration": 43,
    "start_time": "2024-06-10T12:27:15.702Z"
   },
   {
    "duration": 7952,
    "start_time": "2024-06-10T12:35:00.057Z"
   },
   {
    "duration": 232,
    "start_time": "2024-06-10T12:35:08.011Z"
   },
   {
    "duration": 125,
    "start_time": "2024-06-10T12:35:08.244Z"
   },
   {
    "duration": 54,
    "start_time": "2024-06-10T12:35:08.430Z"
   },
   {
    "duration": 53,
    "start_time": "2024-06-10T12:35:08.486Z"
   },
   {
    "duration": 80,
    "start_time": "2024-06-10T12:35:08.541Z"
   },
   {
    "duration": 139,
    "start_time": "2024-06-10T12:35:08.622Z"
   },
   {
    "duration": 0,
    "start_time": "2024-06-10T12:35:08.762Z"
   },
   {
    "duration": 0,
    "start_time": "2024-06-10T12:35:08.764Z"
   },
   {
    "duration": 42,
    "start_time": "2024-06-10T12:35:10.874Z"
   },
   {
    "duration": 164,
    "start_time": "2024-06-10T12:35:13.731Z"
   },
   {
    "duration": 78,
    "start_time": "2024-06-10T12:35:27.579Z"
   },
   {
    "duration": 74,
    "start_time": "2024-06-10T12:35:49.307Z"
   },
   {
    "duration": 67,
    "start_time": "2024-06-10T12:36:23.313Z"
   },
   {
    "duration": 140,
    "start_time": "2024-06-10T12:36:51.222Z"
   },
   {
    "duration": 74,
    "start_time": "2024-06-10T12:37:27.209Z"
   },
   {
    "duration": 65,
    "start_time": "2024-06-10T12:37:44.245Z"
   },
   {
    "duration": 142,
    "start_time": "2024-06-10T12:37:54.219Z"
   },
   {
    "duration": 151,
    "start_time": "2024-06-10T12:38:00.279Z"
   },
   {
    "duration": 143,
    "start_time": "2024-06-10T12:38:15.404Z"
   },
   {
    "duration": 119,
    "start_time": "2024-06-10T12:38:20.519Z"
   },
   {
    "duration": 73,
    "start_time": "2024-06-10T12:38:39.974Z"
   },
   {
    "duration": 49,
    "start_time": "2024-06-10T12:38:55.115Z"
   },
   {
    "duration": 59,
    "start_time": "2024-06-10T12:39:22.131Z"
   },
   {
    "duration": 72,
    "start_time": "2024-06-10T12:40:51.048Z"
   },
   {
    "duration": 65,
    "start_time": "2024-06-10T12:41:05.962Z"
   },
   {
    "duration": 45,
    "start_time": "2024-06-10T12:42:05.849Z"
   },
   {
    "duration": 76,
    "start_time": "2024-06-10T12:49:50.083Z"
   },
   {
    "duration": 64,
    "start_time": "2024-06-10T12:50:02.051Z"
   },
   {
    "duration": 64,
    "start_time": "2024-06-10T12:50:22.055Z"
   },
   {
    "duration": 67,
    "start_time": "2024-06-10T12:52:16.970Z"
   },
   {
    "duration": 151,
    "start_time": "2024-06-10T12:52:51.252Z"
   },
   {
    "duration": 146,
    "start_time": "2024-06-10T12:53:07.197Z"
   },
   {
    "duration": 73,
    "start_time": "2024-06-10T12:53:19.395Z"
   },
   {
    "duration": 80,
    "start_time": "2024-06-10T12:54:41.030Z"
   },
   {
    "duration": 69,
    "start_time": "2024-06-10T12:54:48.086Z"
   },
   {
    "duration": 62,
    "start_time": "2024-06-10T12:54:59.839Z"
   },
   {
    "duration": 80,
    "start_time": "2024-06-10T12:55:03.364Z"
   },
   {
    "duration": 75,
    "start_time": "2024-06-10T12:55:13.882Z"
   },
   {
    "duration": 75,
    "start_time": "2024-06-10T12:57:53.039Z"
   },
   {
    "duration": 70,
    "start_time": "2024-06-10T12:58:15.070Z"
   },
   {
    "duration": 75,
    "start_time": "2024-06-10T12:58:37.769Z"
   },
   {
    "duration": 62,
    "start_time": "2024-06-10T12:58:47.271Z"
   },
   {
    "duration": 62,
    "start_time": "2024-06-10T12:58:58.697Z"
   },
   {
    "duration": 63,
    "start_time": "2024-06-10T12:59:15.643Z"
   },
   {
    "duration": 63,
    "start_time": "2024-06-10T13:00:09.890Z"
   },
   {
    "duration": 69,
    "start_time": "2024-06-10T13:00:23.678Z"
   },
   {
    "duration": 80,
    "start_time": "2024-06-10T13:00:44.351Z"
   },
   {
    "duration": 74,
    "start_time": "2024-06-10T13:01:48.960Z"
   },
   {
    "duration": 69,
    "start_time": "2024-06-10T13:01:51.904Z"
   },
   {
    "duration": 72,
    "start_time": "2024-06-10T13:02:03.299Z"
   },
   {
    "duration": 74,
    "start_time": "2024-06-10T13:02:15.654Z"
   },
   {
    "duration": 62,
    "start_time": "2024-06-10T13:02:20.078Z"
   },
   {
    "duration": 69,
    "start_time": "2024-06-10T13:02:25.182Z"
   },
   {
    "duration": 81,
    "start_time": "2024-06-10T13:02:33.653Z"
   },
   {
    "duration": 74,
    "start_time": "2024-06-10T13:02:58.994Z"
   },
   {
    "duration": 64,
    "start_time": "2024-06-10T13:03:07.964Z"
   },
   {
    "duration": 63,
    "start_time": "2024-06-10T13:03:11.042Z"
   },
   {
    "duration": 148,
    "start_time": "2024-06-10T13:03:14.599Z"
   },
   {
    "duration": 138,
    "start_time": "2024-06-10T13:03:31.696Z"
   },
   {
    "duration": 134,
    "start_time": "2024-06-10T13:04:17.377Z"
   },
   {
    "duration": 46,
    "start_time": "2024-06-10T13:04:21.635Z"
   },
   {
    "duration": 75,
    "start_time": "2024-06-10T13:04:35.379Z"
   },
   {
    "duration": 45,
    "start_time": "2024-06-10T13:04:51.667Z"
   },
   {
    "duration": 60,
    "start_time": "2024-06-10T13:04:59.721Z"
   },
   {
    "duration": 75,
    "start_time": "2024-06-10T13:06:35.726Z"
   },
   {
    "duration": 62,
    "start_time": "2024-06-10T13:07:19.418Z"
   },
   {
    "duration": 63,
    "start_time": "2024-06-10T13:08:38.284Z"
   },
   {
    "duration": 60,
    "start_time": "2024-06-10T13:08:44.970Z"
   },
   {
    "duration": 57,
    "start_time": "2024-06-10T13:16:08.025Z"
   },
   {
    "duration": 125,
    "start_time": "2024-06-10T13:17:45.815Z"
   },
   {
    "duration": 72,
    "start_time": "2024-06-10T13:17:54.996Z"
   },
   {
    "duration": 57,
    "start_time": "2024-06-10T13:18:18.743Z"
   },
   {
    "duration": 75,
    "start_time": "2024-06-10T13:18:55.506Z"
   },
   {
    "duration": 76,
    "start_time": "2024-06-10T13:19:17.519Z"
   },
   {
    "duration": 66,
    "start_time": "2024-06-10T13:21:52.873Z"
   },
   {
    "duration": 76,
    "start_time": "2024-06-10T13:22:36.934Z"
   },
   {
    "duration": 53,
    "start_time": "2024-06-10T13:22:50.788Z"
   },
   {
    "duration": 62,
    "start_time": "2024-06-10T13:23:03.619Z"
   },
   {
    "duration": 73,
    "start_time": "2024-06-10T13:28:17.511Z"
   },
   {
    "duration": 65,
    "start_time": "2024-06-10T13:28:27.060Z"
   },
   {
    "duration": 47,
    "start_time": "2024-06-10T13:28:41.804Z"
   },
   {
    "duration": 56,
    "start_time": "2024-06-10T13:28:48.757Z"
   },
   {
    "duration": 61,
    "start_time": "2024-06-10T13:31:01.845Z"
   },
   {
    "duration": 83,
    "start_time": "2024-06-10T13:35:17.027Z"
   },
   {
    "duration": 74,
    "start_time": "2024-06-10T13:35:32.481Z"
   },
   {
    "duration": 74,
    "start_time": "2024-06-10T13:39:03.708Z"
   },
   {
    "duration": 48,
    "start_time": "2024-06-10T13:39:45.769Z"
   },
   {
    "duration": 60,
    "start_time": "2024-06-10T13:40:21.831Z"
   },
   {
    "duration": 74,
    "start_time": "2024-06-10T13:40:35.731Z"
   },
   {
    "duration": 63,
    "start_time": "2024-06-10T13:40:58.277Z"
   },
   {
    "duration": 43,
    "start_time": "2024-06-10T13:41:09.452Z"
   },
   {
    "duration": 56,
    "start_time": "2024-06-10T13:41:14.436Z"
   },
   {
    "duration": 3,
    "start_time": "2024-06-10T13:41:55.146Z"
   },
   {
    "duration": 56,
    "start_time": "2024-06-10T13:42:04.428Z"
   },
   {
    "duration": 56,
    "start_time": "2024-06-10T13:43:23.160Z"
   },
   {
    "duration": 57,
    "start_time": "2024-06-10T13:43:34.125Z"
   },
   {
    "duration": 58,
    "start_time": "2024-06-10T13:43:45.692Z"
   },
   {
    "duration": 56,
    "start_time": "2024-06-10T13:43:50.180Z"
   },
   {
    "duration": 75,
    "start_time": "2024-06-10T13:48:21.608Z"
   },
   {
    "duration": 62,
    "start_time": "2024-06-10T13:48:37.223Z"
   },
   {
    "duration": 63,
    "start_time": "2024-06-10T13:49:07.221Z"
   },
   {
    "duration": 148,
    "start_time": "2024-06-10T13:49:24.643Z"
   },
   {
    "duration": 130,
    "start_time": "2024-06-10T13:49:45.978Z"
   },
   {
    "duration": 62,
    "start_time": "2024-06-10T13:50:18.208Z"
   },
   {
    "duration": 56,
    "start_time": "2024-06-10T13:51:07.672Z"
   },
   {
    "duration": 93,
    "start_time": "2024-06-10T13:52:44.126Z"
   },
   {
    "duration": 93,
    "start_time": "2024-06-10T13:53:34.056Z"
   },
   {
    "duration": 5,
    "start_time": "2024-06-10T13:54:37.275Z"
   },
   {
    "duration": 241,
    "start_time": "2024-06-10T14:14:17.604Z"
   },
   {
    "duration": 132,
    "start_time": "2024-06-10T14:14:21.823Z"
   },
   {
    "duration": 55,
    "start_time": "2024-06-10T14:14:25.723Z"
   },
   {
    "duration": 56,
    "start_time": "2024-06-10T14:15:11.394Z"
   },
   {
    "duration": 54,
    "start_time": "2024-06-10T14:15:20.671Z"
   },
   {
    "duration": 80,
    "start_time": "2024-06-10T14:17:21.735Z"
   },
   {
    "duration": 7454,
    "start_time": "2024-06-10T18:49:09.375Z"
   },
   {
    "duration": 247,
    "start_time": "2024-06-10T18:49:16.831Z"
   },
   {
    "duration": 125,
    "start_time": "2024-06-10T18:49:17.079Z"
   },
   {
    "duration": 52,
    "start_time": "2024-06-10T18:49:17.207Z"
   },
   {
    "duration": 52,
    "start_time": "2024-06-10T18:49:17.260Z"
   },
   {
    "duration": 50,
    "start_time": "2024-06-10T18:49:17.313Z"
   },
   {
    "duration": 50,
    "start_time": "2024-06-10T18:49:17.365Z"
   },
   {
    "duration": 91,
    "start_time": "2024-06-10T18:49:17.416Z"
   },
   {
    "duration": 53,
    "start_time": "2024-06-10T18:49:17.509Z"
   },
   {
    "duration": 60,
    "start_time": "2024-06-10T18:49:17.564Z"
   },
   {
    "duration": 56,
    "start_time": "2024-06-10T18:49:17.625Z"
   },
   {
    "duration": 94,
    "start_time": "2024-06-10T18:53:08.232Z"
   },
   {
    "duration": 44,
    "start_time": "2024-06-10T18:58:17.822Z"
   },
   {
    "duration": 6993,
    "start_time": "2024-06-10T18:58:23.505Z"
   },
   {
    "duration": 44,
    "start_time": "2024-06-10T18:58:30.499Z"
   },
   {
    "duration": 59,
    "start_time": "2024-06-10T18:58:30.544Z"
   },
   {
    "duration": 24,
    "start_time": "2024-06-10T18:58:30.604Z"
   },
   {
    "duration": 70,
    "start_time": "2024-06-10T18:58:30.629Z"
   },
   {
    "duration": 41,
    "start_time": "2024-06-10T18:58:30.700Z"
   },
   {
    "duration": 106,
    "start_time": "2024-06-10T18:58:30.742Z"
   },
   {
    "duration": 121,
    "start_time": "2024-06-10T18:58:30.849Z"
   },
   {
    "duration": 31,
    "start_time": "2024-06-10T18:58:30.971Z"
   },
   {
    "duration": 102,
    "start_time": "2024-06-10T18:58:31.003Z"
   },
   {
    "duration": 25,
    "start_time": "2024-06-10T18:58:31.107Z"
   },
   {
    "duration": 9,
    "start_time": "2024-06-10T18:59:59.192Z"
   },
   {
    "duration": 473,
    "start_time": "2024-06-11T08:11:47.706Z"
   },
   {
    "duration": 2,
    "start_time": "2024-06-11T08:11:48.386Z"
   },
   {
    "duration": 7322,
    "start_time": "2024-06-11T08:11:48.986Z"
   },
   {
    "duration": 127,
    "start_time": "2024-06-11T08:13:05.033Z"
   },
   {
    "duration": 58,
    "start_time": "2024-06-11T08:13:08.618Z"
   },
   {
    "duration": 462,
    "start_time": "2024-06-11T08:33:02.753Z"
   },
   {
    "duration": 2,
    "start_time": "2024-06-11T08:33:03.217Z"
   },
   {
    "duration": 6695,
    "start_time": "2024-06-11T08:33:03.221Z"
   },
   {
    "duration": 40,
    "start_time": "2024-06-11T08:33:09.917Z"
   },
   {
    "duration": 33,
    "start_time": "2024-06-11T08:33:09.958Z"
   },
   {
    "duration": 9,
    "start_time": "2024-06-11T08:33:09.992Z"
   },
   {
    "duration": 25,
    "start_time": "2024-06-11T08:33:10.002Z"
   },
   {
    "duration": 42,
    "start_time": "2024-06-11T08:33:10.028Z"
   },
   {
    "duration": 94,
    "start_time": "2024-06-11T08:33:10.071Z"
   },
   {
    "duration": 33,
    "start_time": "2024-06-11T08:33:10.166Z"
   },
   {
    "duration": 9,
    "start_time": "2024-06-11T08:33:10.200Z"
   },
   {
    "duration": 17,
    "start_time": "2024-06-11T08:33:10.210Z"
   },
   {
    "duration": 12,
    "start_time": "2024-06-11T08:33:10.228Z"
   },
   {
    "duration": 33,
    "start_time": "2024-06-11T08:36:30.398Z"
   },
   {
    "duration": 37,
    "start_time": "2024-06-11T08:36:39.081Z"
   },
   {
    "duration": 39,
    "start_time": "2024-06-11T08:36:50.793Z"
   },
   {
    "duration": 34,
    "start_time": "2024-06-11T08:36:54.090Z"
   },
   {
    "duration": 33,
    "start_time": "2024-06-11T08:37:13.463Z"
   },
   {
    "duration": 36,
    "start_time": "2024-06-11T08:37:20.402Z"
   },
   {
    "duration": 32,
    "start_time": "2024-06-11T08:37:39.775Z"
   },
   {
    "duration": 32,
    "start_time": "2024-06-11T08:39:22.276Z"
   },
   {
    "duration": 32,
    "start_time": "2024-06-11T08:39:28.072Z"
   },
   {
    "duration": 37,
    "start_time": "2024-06-11T08:39:34.037Z"
   },
   {
    "duration": 32,
    "start_time": "2024-06-11T08:39:47.805Z"
   },
   {
    "duration": 35,
    "start_time": "2024-06-11T08:39:56.799Z"
   },
   {
    "duration": 33,
    "start_time": "2024-06-11T08:40:02.918Z"
   },
   {
    "duration": 35,
    "start_time": "2024-06-11T08:40:11.343Z"
   },
   {
    "duration": 36,
    "start_time": "2024-06-11T08:40:19.134Z"
   },
   {
    "duration": 34,
    "start_time": "2024-06-11T08:46:08.913Z"
   },
   {
    "duration": 30,
    "start_time": "2024-06-11T08:49:28.535Z"
   },
   {
    "duration": 74,
    "start_time": "2024-06-11T08:49:50.993Z"
   },
   {
    "duration": 17,
    "start_time": "2024-06-11T08:50:07.141Z"
   },
   {
    "duration": 63,
    "start_time": "2024-06-11T08:50:13.744Z"
   },
   {
    "duration": 37,
    "start_time": "2024-06-11T08:51:01.264Z"
   },
   {
    "duration": 35,
    "start_time": "2024-06-11T08:51:07.370Z"
   },
   {
    "duration": 31,
    "start_time": "2024-06-11T08:51:14.865Z"
   },
   {
    "duration": 18,
    "start_time": "2024-06-11T08:51:37.139Z"
   },
   {
    "duration": 33,
    "start_time": "2024-06-11T08:52:04.987Z"
   },
   {
    "duration": 34,
    "start_time": "2024-06-11T08:52:08.676Z"
   },
   {
    "duration": 20,
    "start_time": "2024-06-11T08:53:09.797Z"
   },
   {
    "duration": 32,
    "start_time": "2024-06-11T08:53:12.886Z"
   },
   {
    "duration": 60,
    "start_time": "2024-06-11T08:53:31.465Z"
   },
   {
    "duration": 32,
    "start_time": "2024-06-11T08:53:43.371Z"
   },
   {
    "duration": 31,
    "start_time": "2024-06-11T08:53:48.298Z"
   },
   {
    "duration": 37,
    "start_time": "2024-06-11T08:54:33.581Z"
   },
   {
    "duration": 19,
    "start_time": "2024-06-11T08:54:40.299Z"
   },
   {
    "duration": 32,
    "start_time": "2024-06-11T08:55:32.336Z"
   },
   {
    "duration": 43,
    "start_time": "2024-06-11T08:56:08.918Z"
   },
   {
    "duration": 9,
    "start_time": "2024-06-11T08:56:12.034Z"
   },
   {
    "duration": 68,
    "start_time": "2024-06-11T08:56:17.619Z"
   },
   {
    "duration": 32,
    "start_time": "2024-06-11T08:56:31.910Z"
   },
   {
    "duration": 18,
    "start_time": "2024-06-11T08:56:41.118Z"
   },
   {
    "duration": 18,
    "start_time": "2024-06-11T08:57:23.782Z"
   },
   {
    "duration": 20,
    "start_time": "2024-06-11T08:57:39.337Z"
   },
   {
    "duration": 31,
    "start_time": "2024-06-11T08:57:48.731Z"
   },
   {
    "duration": 25,
    "start_time": "2024-06-11T08:57:56.104Z"
   },
   {
    "duration": 32,
    "start_time": "2024-06-11T08:58:01.962Z"
   },
   {
    "duration": 18,
    "start_time": "2024-06-11T08:59:09.501Z"
   },
   {
    "duration": 33,
    "start_time": "2024-06-11T08:59:14.717Z"
   },
   {
    "duration": 34,
    "start_time": "2024-06-11T08:59:21.392Z"
   },
   {
    "duration": 34,
    "start_time": "2024-06-11T08:59:27.576Z"
   },
   {
    "duration": 32,
    "start_time": "2024-06-11T08:59:34.951Z"
   },
   {
    "duration": 33,
    "start_time": "2024-06-11T08:59:41.383Z"
   },
   {
    "duration": 32,
    "start_time": "2024-06-11T08:59:47.357Z"
   },
   {
    "duration": 33,
    "start_time": "2024-06-11T08:59:52.444Z"
   },
   {
    "duration": 35,
    "start_time": "2024-06-11T09:00:15.027Z"
   },
   {
    "duration": 35,
    "start_time": "2024-06-11T09:00:29.604Z"
   },
   {
    "duration": 38,
    "start_time": "2024-06-11T09:00:34.450Z"
   },
   {
    "duration": 38,
    "start_time": "2024-06-11T09:01:06.879Z"
   },
   {
    "duration": 34,
    "start_time": "2024-06-11T09:01:13.741Z"
   },
   {
    "duration": 31,
    "start_time": "2024-06-11T09:01:32.581Z"
   },
   {
    "duration": 32,
    "start_time": "2024-06-11T09:01:45.924Z"
   },
   {
    "duration": 33,
    "start_time": "2024-06-11T09:01:56.495Z"
   },
   {
    "duration": 26,
    "start_time": "2024-06-11T09:02:24.954Z"
   },
   {
    "duration": 28,
    "start_time": "2024-06-11T09:03:45.119Z"
   },
   {
    "duration": 30,
    "start_time": "2024-06-11T09:03:50.839Z"
   },
   {
    "duration": 31,
    "start_time": "2024-06-11T09:04:32.623Z"
   },
   {
    "duration": 32,
    "start_time": "2024-06-11T09:04:45.239Z"
   },
   {
    "duration": 32,
    "start_time": "2024-06-11T09:05:01.113Z"
   },
   {
    "duration": 32,
    "start_time": "2024-06-11T09:05:24.167Z"
   },
   {
    "duration": 31,
    "start_time": "2024-06-11T09:05:34.470Z"
   },
   {
    "duration": 30,
    "start_time": "2024-06-11T09:05:46.483Z"
   },
   {
    "duration": 52,
    "start_time": "2024-06-11T11:23:57.848Z"
   },
   {
    "duration": 541,
    "start_time": "2024-06-11T11:24:06.312Z"
   },
   {
    "duration": 3,
    "start_time": "2024-06-11T11:24:06.855Z"
   },
   {
    "duration": 6746,
    "start_time": "2024-06-11T11:24:06.860Z"
   },
   {
    "duration": 236,
    "start_time": "2024-06-11T11:24:13.608Z"
   },
   {
    "duration": 136,
    "start_time": "2024-06-11T11:24:13.847Z"
   },
   {
    "duration": 55,
    "start_time": "2024-06-11T11:24:13.985Z"
   },
   {
    "duration": 54,
    "start_time": "2024-06-11T11:24:14.042Z"
   },
   {
    "duration": 53,
    "start_time": "2024-06-11T11:24:14.098Z"
   },
   {
    "duration": 53,
    "start_time": "2024-06-11T11:24:14.152Z"
   },
   {
    "duration": 96,
    "start_time": "2024-06-11T11:24:14.207Z"
   },
   {
    "duration": 56,
    "start_time": "2024-06-11T11:24:14.304Z"
   },
   {
    "duration": 164,
    "start_time": "2024-06-11T11:24:14.362Z"
   },
   {
    "duration": 0,
    "start_time": "2024-06-11T11:24:14.528Z"
   },
   {
    "duration": 74,
    "start_time": "2024-06-11T11:24:34.606Z"
   },
   {
    "duration": 128,
    "start_time": "2024-06-11T11:24:54.065Z"
   },
   {
    "duration": 87,
    "start_time": "2024-06-11T11:25:20.023Z"
   },
   {
    "duration": 78,
    "start_time": "2024-06-11T11:25:35.785Z"
   },
   {
    "duration": 137,
    "start_time": "2024-06-11T11:25:57.684Z"
   },
   {
    "duration": 77,
    "start_time": "2024-06-11T11:27:51.621Z"
   },
   {
    "duration": 51,
    "start_time": "2024-06-11T11:28:02.061Z"
   },
   {
    "duration": 86,
    "start_time": "2024-06-11T11:28:35.827Z"
   },
   {
    "duration": 87,
    "start_time": "2024-06-11T11:29:15.587Z"
   },
   {
    "duration": 74,
    "start_time": "2024-06-11T11:29:32.459Z"
   },
   {
    "duration": 65,
    "start_time": "2024-06-11T11:29:51.968Z"
   },
   {
    "duration": 72,
    "start_time": "2024-06-11T11:30:04.633Z"
   },
   {
    "duration": 73,
    "start_time": "2024-06-11T11:30:14.463Z"
   },
   {
    "duration": 74,
    "start_time": "2024-06-11T11:30:22.764Z"
   },
   {
    "duration": 76,
    "start_time": "2024-06-11T11:30:53.181Z"
   },
   {
    "duration": 69,
    "start_time": "2024-06-11T11:31:25.272Z"
   },
   {
    "duration": 47,
    "start_time": "2024-06-11T11:31:43.098Z"
   },
   {
    "duration": 63,
    "start_time": "2024-06-11T11:33:03.050Z"
   },
   {
    "duration": 78,
    "start_time": "2024-06-11T11:36:01.911Z"
   },
   {
    "duration": 63,
    "start_time": "2024-06-11T11:36:17.039Z"
   },
   {
    "duration": 146,
    "start_time": "2024-06-11T11:36:30.188Z"
   },
   {
    "duration": 61,
    "start_time": "2024-06-11T11:36:47.452Z"
   },
   {
    "duration": 70,
    "start_time": "2024-06-11T11:37:08.545Z"
   },
   {
    "duration": 152,
    "start_time": "2024-06-11T11:37:39.869Z"
   },
   {
    "duration": 135,
    "start_time": "2024-06-11T11:38:27.001Z"
   },
   {
    "duration": 59,
    "start_time": "2024-06-11T11:38:52.573Z"
   },
   {
    "duration": 75,
    "start_time": "2024-06-11T11:39:26.513Z"
   },
   {
    "duration": 62,
    "start_time": "2024-06-11T11:39:34.396Z"
   },
   {
    "duration": 68,
    "start_time": "2024-06-11T11:40:10.979Z"
   },
   {
    "duration": 64,
    "start_time": "2024-06-11T11:42:16.932Z"
   },
   {
    "duration": 144,
    "start_time": "2024-06-11T11:42:39.296Z"
   },
   {
    "duration": 75,
    "start_time": "2024-06-11T11:43:27.574Z"
   },
   {
    "duration": 42,
    "start_time": "2024-06-11T11:43:35.627Z"
   },
   {
    "duration": 74,
    "start_time": "2024-06-11T11:46:12.888Z"
   },
   {
    "duration": 63,
    "start_time": "2024-06-11T11:48:06.174Z"
   },
   {
    "duration": 144,
    "start_time": "2024-06-11T11:50:32.502Z"
   },
   {
    "duration": 127,
    "start_time": "2024-06-11T11:51:00.616Z"
   },
   {
    "duration": 57,
    "start_time": "2024-06-11T11:51:42.758Z"
   },
   {
    "duration": 58,
    "start_time": "2024-06-11T11:51:57.344Z"
   },
   {
    "duration": 56,
    "start_time": "2024-06-11T11:53:52.101Z"
   },
   {
    "duration": 56,
    "start_time": "2024-06-11T11:54:25.998Z"
   },
   {
    "duration": 57,
    "start_time": "2024-06-11T11:54:55.796Z"
   },
   {
    "duration": 57,
    "start_time": "2024-06-11T11:55:16.685Z"
   },
   {
    "duration": 58,
    "start_time": "2024-06-11T12:01:23.126Z"
   },
   {
    "duration": 556,
    "start_time": "2024-06-11T12:09:10.873Z"
   },
   {
    "duration": 3,
    "start_time": "2024-06-11T12:09:11.431Z"
   },
   {
    "duration": 6957,
    "start_time": "2024-06-11T12:09:11.436Z"
   },
   {
    "duration": 228,
    "start_time": "2024-06-11T12:09:18.394Z"
   },
   {
    "duration": 129,
    "start_time": "2024-06-11T12:09:18.624Z"
   },
   {
    "duration": 53,
    "start_time": "2024-06-11T12:09:18.755Z"
   },
   {
    "duration": 54,
    "start_time": "2024-06-11T12:09:18.809Z"
   },
   {
    "duration": 51,
    "start_time": "2024-06-11T12:09:18.865Z"
   },
   {
    "duration": 52,
    "start_time": "2024-06-11T12:09:18.918Z"
   },
   {
    "duration": 100,
    "start_time": "2024-06-11T12:09:18.971Z"
   },
   {
    "duration": 54,
    "start_time": "2024-06-11T12:09:19.073Z"
   },
   {
    "duration": 56,
    "start_time": "2024-06-11T12:09:19.128Z"
   },
   {
    "duration": 56,
    "start_time": "2024-06-11T12:09:19.185Z"
   },
   {
    "duration": 60,
    "start_time": "2024-06-11T12:09:19.244Z"
   },
   {
    "duration": 464,
    "start_time": "2024-06-11T12:31:51.393Z"
   },
   {
    "duration": 3,
    "start_time": "2024-06-11T12:31:51.859Z"
   },
   {
    "duration": 7824,
    "start_time": "2024-06-11T12:31:51.863Z"
   },
   {
    "duration": 236,
    "start_time": "2024-06-11T12:31:59.689Z"
   },
   {
    "duration": 134,
    "start_time": "2024-06-11T12:31:59.927Z"
   },
   {
    "duration": 53,
    "start_time": "2024-06-11T12:32:00.063Z"
   },
   {
    "duration": 52,
    "start_time": "2024-06-11T12:32:00.118Z"
   },
   {
    "duration": 53,
    "start_time": "2024-06-11T12:32:00.171Z"
   },
   {
    "duration": 51,
    "start_time": "2024-06-11T12:32:00.225Z"
   },
   {
    "duration": 95,
    "start_time": "2024-06-11T12:32:00.278Z"
   },
   {
    "duration": 53,
    "start_time": "2024-06-11T12:32:00.374Z"
   },
   {
    "duration": 63,
    "start_time": "2024-06-11T12:32:00.429Z"
   },
   {
    "duration": 54,
    "start_time": "2024-06-11T12:32:00.494Z"
   },
   {
    "duration": 60,
    "start_time": "2024-06-11T12:32:00.549Z"
   },
   {
    "duration": 93,
    "start_time": "2024-06-11T12:32:18.286Z"
   },
   {
    "duration": 55,
    "start_time": "2024-06-11T12:32:52.579Z"
   }
  ],
  "kernelspec": {
   "display_name": "Python 3 (ipykernel)",
   "language": "python",
   "name": "python3"
  },
  "language_info": {
   "codemirror_mode": {
    "name": "ipython",
    "version": 3
   },
   "file_extension": ".py",
   "mimetype": "text/x-python",
   "name": "python",
   "nbconvert_exporter": "python",
   "pygments_lexer": "ipython3",
   "version": "3.11.5"
  },
  "toc": {
   "base_numbering": 1,
   "nav_menu": {},
   "number_sections": true,
   "sideBar": true,
   "skip_h1_title": true,
   "title_cell": "Table of Contents",
   "title_sidebar": "Contents",
   "toc_cell": false,
   "toc_position": {},
   "toc_section_display": true,
   "toc_window_display": false
  }
 },
 "nbformat": 4,
 "nbformat_minor": 2
}
